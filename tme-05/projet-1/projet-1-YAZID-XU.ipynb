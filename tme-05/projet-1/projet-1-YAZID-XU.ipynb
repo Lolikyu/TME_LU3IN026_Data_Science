{
 "cells": [
  {
   "cell_type": "markdown",
   "metadata": {},
   "source": [
    "IA & Data science (LU3IN0226) -- 2022-2023\n",
    "--------\n",
    "*&copy; Equipe pédagogique: Christophe Marsala, Olivier Schwander, Jean-Noël Vittaut.*"
   ]
  },
  {
   "cell_type": "markdown",
   "metadata": {},
   "source": [
    "<font size=\"+1\" color=\"RED\"><b>[Q]</b></font> <font size=\"+1\"><b>Indiquer dans la boîte ci-dessous vos noms et prénoms :</b></font>"
   ]
  },
  {
   "attachments": {},
   "cell_type": "markdown",
   "metadata": {},
   "source": [
    "Samy(Adem) YAZID & Alex XU"
   ]
  },
  {
   "cell_type": "markdown",
   "metadata": {},
   "source": [
    "Ce projet peut être fait en binôme (d'un même groupe). Le nom de chaque membre du binôme doit être indiqué, et un seul rendu sur un des deux comptes Moodle doit être fait.\n",
    "\n",
    "Les groupes de plus de 2 personnes ne sont pas autorisés."
   ]
  },
  {
   "cell_type": "markdown",
   "metadata": {},
   "source": [
    "<font color=\"RED\" size=\"+1\"><b>[Q]</b></font> **Renommer ce fichier ipython**\n",
    "\n",
    "Tout en haut de cette page, cliquer sur <tt>projet-1</tt> et rajouter à la suite de <tt>projet-1</tt> les noms des membres du binômes séparés par un tiret.\n",
    "\n",
    "<font color=\"RED\" size=\"+1\">IMPORTANT: soumission de votre fichier final</font>\n",
    "\n",
    "**Nom à donner au notebook** : *projet-1-Nom1_Nom2.ipynb* \n",
    "- *Nom1* et *Nom2* : noms des membres du binôme\n",
    "\n",
    "**Le compte-rendu doit être rendu sur la page Moodle.**"
   ]
  },
  {
   "cell_type": "markdown",
   "metadata": {},
   "source": [
    "# Projet 1 - février-mars 2023\n",
    "\n",
    "\n",
    "<font size=\"+1\" color=\"RED\"><b>Date de rendu : jeudi 22 mars, 18h au plus tard</b></font>\n",
    "<br />\n",
    "\n",
    "\n",
    "Vous devez compléter ce notebook en rajoutant vos expérimentations avec vos algorithmes d'apprentissage sur les 2 datasets fournis dans le répertoire data-projet:\n",
    "- les données data-2D.pkl : données en 2 dimensions, 2 labels\n",
    "- les données data-5D.pkl : données en 5 dimensions, 2 labels\n",
    "\n",
    "## Travail à faire\n",
    "\n",
    "Pour chaque ensemble de données:\n",
    "- les 3 algorithmes d'apprentissage knn, perceptron et perceptron biais doivent être expérimentés et comparés (ATTENTION: on ne veut que des algorithmes que vous avez implémentés vous-même dans cette UE).\n",
    "- des résultats d'expérimentations doivent fournir une comparaison des taux de bonne classification apprentissage / test avec validation croisée en 10.\n",
    "- des courbes (coût, poids, variation d'accuracy,...) doivent être fournies pour étudier les modèles construits.\n",
    "\n",
    "Vos **expérimentations doivent être expliquées**... (utilisez des boîtes Markdown pour saisir vos explications):\n",
    "- une argumentation du type *\"pourquoi vous avez fait cette expérimentation\"* doit être fournie;\n",
    "- une analyse succincte du résultat fourni doit être aussi donnée.\n",
    "\n",
    "\n",
    "\n",
    "Par exemple (indicatif): choix de $k$ pour le knn:\n",
    "- argumentation : pour décider quelle peut être la valeur de $k$ optimale, on décide de tester plusieurs valeurs différentes et de comparer les taux de bonne classification sur la base de test obtenus.\n",
    "- analyse du résultat: on remarque que la valeur $k$ suivante fournie le meilleur résultat.\n",
    "- étude du temps d'exécution.\n",
    "\n",
    "\n",
    "## Travail à rendre\n",
    "Ce qui doit être rendu : un fichier archive (`.tar`, `.tgz`, ou `.zip` uniquement) contenant uniquement ce notebook, dans lequel vous avez reporté toutes les fonctions que vous utilisez : ce notebook doit pouvoir être exécuté sans autre apport (pensez à vous en assurer avant de le rendre). Les fichiers de données ne doivent pas être inclus dans votre archive !\n",
    "\n"
   ]
  },
  {
   "cell_type": "markdown",
   "metadata": {},
   "source": [
    "## Lecture des pickles\n",
    "\n"
   ]
  },
  {
   "cell_type": "code",
   "execution_count": 20,
   "metadata": {},
   "outputs": [
    {
     "ename": "ModuleNotFoundError",
     "evalue": "No module named 'iads'",
     "output_type": "error",
     "traceback": [
      "\u001b[0;31m---------------------------------------------------------------------------\u001b[0m",
      "\u001b[0;31mModuleNotFoundError\u001b[0m                       Traceback (most recent call last)",
      "Cell \u001b[0;32mIn[20], line 10\u001b[0m\n\u001b[1;32m      7\u001b[0m sys\u001b[39m.\u001b[39mpath\u001b[39m.\u001b[39mappend(\u001b[39m'\u001b[39m\u001b[39m../\u001b[39m\u001b[39m'\u001b[39m)\n\u001b[1;32m      9\u001b[0m \u001b[39m# Importation de la librairie iads\u001b[39;00m\n\u001b[0;32m---> 10\u001b[0m \u001b[39mimport\u001b[39;00m \u001b[39miads\u001b[39;00m \u001b[39mas\u001b[39;00m \u001b[39miads\u001b[39;00m\n\u001b[1;32m     11\u001b[0m \u001b[39mfrom\u001b[39;00m \u001b[39miads\u001b[39;00m \u001b[39mimport\u001b[39;00m Classifiers \u001b[39mas\u001b[39;00m classif\n\u001b[1;32m     12\u001b[0m \u001b[39mfrom\u001b[39;00m \u001b[39miads\u001b[39;00m \u001b[39mimport\u001b[39;00m utils \u001b[39mas\u001b[39;00m ut\n",
      "\u001b[0;31mModuleNotFoundError\u001b[0m: No module named 'iads'"
     ]
    }
   ],
   "source": [
    "# Importation de librairies standards:\n",
    "import numpy as np\n",
    "import pandas as pd\n",
    "import random as random\n",
    "import matplotlib.pyplot as plt\n",
    "import sys\n",
    "sys.path.append('../')\n",
    "\n",
    "# Importation de la librairie iads\n",
    "import iads as iads\n",
    "from iads import Classifiers as classif\n",
    "from iads import utils as ut\n",
    "\n",
    "# Importation de la librairie pickle\n",
    "import pickle as pkl\n",
    "\n",
    "# lecture des donnéees en dimension 2 dans un dataframe pandas\n",
    "data2D = pkl.load(open('data-projet/data-2D.pkl', 'rb')) \n",
    "X2D = np.array(data2D[['x1', 'x2']], dtype=float) # conversion de type pour une meilleure compatibilité\n",
    "Y2D = np.array(data2D['label'], dtype=float)\n",
    "\n",
    "# pour les données en dimension 5, la méthode est la même, modifier seulement les noms des colonnes\n",
    "data5D = pkl.load(open('data-projet/data-5D.pkl', 'rb')) \n",
    "X5D = np.array(data5D[['x1', 'x2']], dtype=float) # conversion de type pour une meilleure compatibilité\n",
    "Y5D = np.array(data5D['label'], dtype=float)"
   ]
  },
  {
   "cell_type": "code",
   "execution_count": null,
   "metadata": {},
   "outputs": [
    {
     "data": {
      "text/html": [
       "<div>\n",
       "<style scoped>\n",
       "    .dataframe tbody tr th:only-of-type {\n",
       "        vertical-align: middle;\n",
       "    }\n",
       "\n",
       "    .dataframe tbody tr th {\n",
       "        vertical-align: top;\n",
       "    }\n",
       "\n",
       "    .dataframe thead th {\n",
       "        text-align: right;\n",
       "    }\n",
       "</style>\n",
       "<table border=\"1\" class=\"dataframe\">\n",
       "  <thead>\n",
       "    <tr style=\"text-align: right;\">\n",
       "      <th></th>\n",
       "      <th>x1</th>\n",
       "      <th>x2</th>\n",
       "      <th>label</th>\n",
       "    </tr>\n",
       "  </thead>\n",
       "  <tbody>\n",
       "    <tr>\n",
       "      <th>0</th>\n",
       "      <td>0.830557</td>\n",
       "      <td>-2.250314</td>\n",
       "      <td>-1</td>\n",
       "    </tr>\n",
       "    <tr>\n",
       "      <th>1</th>\n",
       "      <td>0.627488</td>\n",
       "      <td>-2.533405</td>\n",
       "      <td>-1</td>\n",
       "    </tr>\n",
       "    <tr>\n",
       "      <th>2</th>\n",
       "      <td>-1.279837</td>\n",
       "      <td>-1.630564</td>\n",
       "      <td>-1</td>\n",
       "    </tr>\n",
       "    <tr>\n",
       "      <th>3</th>\n",
       "      <td>2.002088</td>\n",
       "      <td>-3.415239</td>\n",
       "      <td>-1</td>\n",
       "    </tr>\n",
       "    <tr>\n",
       "      <th>4</th>\n",
       "      <td>3.141847</td>\n",
       "      <td>-0.376081</td>\n",
       "      <td>-1</td>\n",
       "    </tr>\n",
       "  </tbody>\n",
       "</table>\n",
       "</div>"
      ],
      "text/plain": [
       "         x1        x2  label\n",
       "0  0.830557 -2.250314     -1\n",
       "1  0.627488 -2.533405     -1\n",
       "2 -1.279837 -1.630564     -1\n",
       "3  2.002088 -3.415239     -1\n",
       "4  3.141847 -0.376081     -1"
      ]
     },
     "execution_count": 4,
     "metadata": {},
     "output_type": "execute_result"
    }
   ],
   "source": [
    "data2D[0:5]"
   ]
  },
  {
   "cell_type": "code",
   "execution_count": null,
   "metadata": {},
   "outputs": [
    {
     "data": {
      "text/plain": [
       "array([[ 0.83055692, -2.25031368],\n",
       "       [ 0.62748844, -2.53340502],\n",
       "       [-1.27983681, -1.63056446],\n",
       "       [ 2.00208794, -3.41523902],\n",
       "       [ 3.14184699, -0.37608089]])"
      ]
     },
     "execution_count": 5,
     "metadata": {},
     "output_type": "execute_result"
    }
   ],
   "source": [
    "X2D[0:5]"
   ]
  },
  {
   "cell_type": "code",
   "execution_count": 13,
   "metadata": {},
   "outputs": [
    {
     "data": {
      "text/plain": [
       "array([-1., -1., -1., -1., -1.])"
      ]
     },
     "execution_count": 13,
     "metadata": {},
     "output_type": "execute_result"
    }
   ],
   "source": [
    "Y2D[0:5]"
   ]
  },
  {
   "cell_type": "code",
   "execution_count": 14,
   "metadata": {},
   "outputs": [
    {
     "data": {
      "text/html": [
       "<div>\n",
       "<style scoped>\n",
       "    .dataframe tbody tr th:only-of-type {\n",
       "        vertical-align: middle;\n",
       "    }\n",
       "\n",
       "    .dataframe tbody tr th {\n",
       "        vertical-align: top;\n",
       "    }\n",
       "\n",
       "    .dataframe thead th {\n",
       "        text-align: right;\n",
       "    }\n",
       "</style>\n",
       "<table border=\"1\" class=\"dataframe\">\n",
       "  <thead>\n",
       "    <tr style=\"text-align: right;\">\n",
       "      <th></th>\n",
       "      <th>x1</th>\n",
       "      <th>x2</th>\n",
       "      <th>x3</th>\n",
       "      <th>x4</th>\n",
       "      <th>x5</th>\n",
       "      <th>label</th>\n",
       "    </tr>\n",
       "  </thead>\n",
       "  <tbody>\n",
       "    <tr>\n",
       "      <th>0</th>\n",
       "      <td>-0.472352</td>\n",
       "      <td>-0.035994</td>\n",
       "      <td>0.572799</td>\n",
       "      <td>2.017446</td>\n",
       "      <td>-1.865967</td>\n",
       "      <td>-1</td>\n",
       "    </tr>\n",
       "    <tr>\n",
       "      <th>1</th>\n",
       "      <td>1.993913</td>\n",
       "      <td>0.984667</td>\n",
       "      <td>-1.180237</td>\n",
       "      <td>1.460067</td>\n",
       "      <td>-0.195743</td>\n",
       "      <td>-1</td>\n",
       "    </tr>\n",
       "    <tr>\n",
       "      <th>2</th>\n",
       "      <td>0.923188</td>\n",
       "      <td>1.194008</td>\n",
       "      <td>0.065319</td>\n",
       "      <td>0.909784</td>\n",
       "      <td>0.832256</td>\n",
       "      <td>-1</td>\n",
       "    </tr>\n",
       "    <tr>\n",
       "      <th>3</th>\n",
       "      <td>2.540148</td>\n",
       "      <td>-0.427836</td>\n",
       "      <td>-0.113014</td>\n",
       "      <td>3.257095</td>\n",
       "      <td>-1.689755</td>\n",
       "      <td>-1</td>\n",
       "    </tr>\n",
       "    <tr>\n",
       "      <th>4</th>\n",
       "      <td>4.331413</td>\n",
       "      <td>0.590868</td>\n",
       "      <td>-1.105335</td>\n",
       "      <td>4.475987</td>\n",
       "      <td>-1.790176</td>\n",
       "      <td>-1</td>\n",
       "    </tr>\n",
       "  </tbody>\n",
       "</table>\n",
       "</div>"
      ],
      "text/plain": [
       "         x1        x2        x3        x4        x5  label\n",
       "0 -0.472352 -0.035994  0.572799  2.017446 -1.865967     -1\n",
       "1  1.993913  0.984667 -1.180237  1.460067 -0.195743     -1\n",
       "2  0.923188  1.194008  0.065319  0.909784  0.832256     -1\n",
       "3  2.540148 -0.427836 -0.113014  3.257095 -1.689755     -1\n",
       "4  4.331413  0.590868 -1.105335  4.475987 -1.790176     -1"
      ]
     },
     "execution_count": 14,
     "metadata": {},
     "output_type": "execute_result"
    }
   ],
   "source": [
    "data5D[0:5]"
   ]
  },
  {
   "cell_type": "code",
   "execution_count": 15,
   "metadata": {},
   "outputs": [
    {
     "data": {
      "text/plain": [
       "array([[-0.4723522 , -0.03599385],\n",
       "       [ 1.9939134 ,  0.9846668 ],\n",
       "       [ 0.92318832,  1.19400787],\n",
       "       [ 2.54014784, -0.42783646],\n",
       "       [ 4.33141251,  0.59086794]])"
      ]
     },
     "execution_count": 15,
     "metadata": {},
     "output_type": "execute_result"
    }
   ],
   "source": [
    "X5D[0:5]"
   ]
  },
  {
   "cell_type": "code",
   "execution_count": 16,
   "metadata": {},
   "outputs": [
    {
     "data": {
      "text/plain": [
       "array([-1., -1., -1., -1., -1.])"
      ]
     },
     "execution_count": 16,
     "metadata": {},
     "output_type": "execute_result"
    }
   ],
   "source": [
    "Y5D[0:5]"
   ]
  },
  {
   "cell_type": "code",
   "execution_count": 17,
   "metadata": {},
   "outputs": [
    {
     "ename": "NameError",
     "evalue": "name 'ut' is not defined",
     "output_type": "error",
     "traceback": [
      "\u001b[0;31m---------------------------------------------------------------------------\u001b[0m",
      "\u001b[0;31mNameError\u001b[0m                                 Traceback (most recent call last)",
      "Cell \u001b[0;32mIn[17], line 3\u001b[0m\n\u001b[1;32m      1\u001b[0m \u001b[39m# Définition des données d'apprentissage (X2D, Y2D)\u001b[39;00m\n\u001b[1;32m      2\u001b[0m random\u001b[39m.\u001b[39mseed(\u001b[39m42\u001b[39m) \n\u001b[0;32m----> 3\u001b[0m (train_desc, train_label), (test_desc, test_label) \u001b[39m=\u001b[39m ut\u001b[39m.\u001b[39mgenere_train_test(X2D, Y2D,\u001b[39m75\u001b[39m,\u001b[39m75\u001b[39m)\n\u001b[1;32m      5\u001b[0m data_train \u001b[39m=\u001b[39m train_desc\n\u001b[1;32m      6\u001b[0m label_train \u001b[39m=\u001b[39m train_label\n",
      "\u001b[0;31mNameError\u001b[0m: name 'ut' is not defined"
     ]
    }
   ],
   "source": [
    "# Définition des données d'apprentissage (X2D, Y2D)\n",
    "random.seed(42) \n",
    "(train_desc, train_label), (test_desc, test_label) = ut.genere_train_test(X2D, Y2D,75,75)\n",
    "\n",
    "data_train = train_desc\n",
    "label_train = train_label\n",
    "data_test = test_desc\n",
    "label_test = test_label"
   ]
  },
  {
   "cell_type": "code",
   "execution_count": null,
   "metadata": {},
   "outputs": [],
   "source": [
    "# Perceptron\n",
    "perceptron = classif.ClassifierPerceptron(256,0.01)\n",
    "\n",
    "# Apprentissage du perceptron\n",
    "print(\"Init perceptron: w= \", perceptron.w)\n",
    "les_variations = perceptron.train(data_train, label_train, 1000) \n",
    "print(\"Nb iterations: \", len(les_variations))\n",
    "\n",
    "# Traçage de la courbe des variations\n",
    "plt.plot(range(1,len(les_variations)+1),les_variations)  \n",
    "plt.ylabel('Différence')\n",
    "plt.xlabel(\"Etape\")\n",
    "plt.show()\n",
    "\n",
    "print(\"1vs2 :\")\n",
    "print(\"Accuracy finale (train): \", perceptron.accuracy(data_train, label_train))\n",
    "print(\"Accuracy finale (test) : \", perceptron.accuracy(data_test, label_test))"
   ]
  },
  {
   "cell_type": "code",
   "execution_count": null,
   "metadata": {},
   "outputs": [],
   "source": []
  }
 ],
 "metadata": {
  "kernelspec": {
   "display_name": "Python 3",
   "language": "python",
   "name": "python3"
  },
  "language_info": {
   "codemirror_mode": {
    "name": "ipython",
    "version": 3
   },
   "file_extension": ".py",
   "mimetype": "text/x-python",
   "name": "python",
   "nbconvert_exporter": "python",
   "pygments_lexer": "ipython3",
   "version": "3.8.10"
  },
  "vscode": {
   "interpreter": {
    "hash": "31f2aee4e71d21fbe5cf8b01ff0e069b9275f58929596ceb00d14d90e3e16cd6"
   }
  }
 },
 "nbformat": 4,
 "nbformat_minor": 1
}
